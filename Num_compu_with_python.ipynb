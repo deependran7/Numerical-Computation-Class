{
 "cells": [
  {
   "attachments": {},
   "cell_type": "markdown",
   "metadata": {},
   "source": [
    "<h3> Application of break, loop and function statement </h3>\n",
    "The Newton method for finding the solution of algegraic and trancendal equation is given as:\n",
    "\n",
    "$$x_{n+1} = x_{n} - \\frac{f(x_n)}{f'(x_n)}$$\n",
    "Lets take the following algebraic equation\n",
    "\n",
    "$$f(x) = x^3 + 3x^2 + 4x + 3$$\n",
    "$$f'(x) = 3x^2 + 6x + 4$$"
   ]
  },
  {
   "cell_type": "code",
   "execution_count": 1,
   "metadata": {},
   "outputs": [],
   "source": [
    "#define the algebraic function and its derivative function\n",
    "def f(x):\n",
    "    return x**3 + 3*x**2 + 4*x + 3\n",
    "def f_dot(x): #derivative of f(x)\n",
    "    if x< 0.01:\n",
    "        return x**2\n",
    "    else:\n",
    "        return x**2 + 4\n",
    "    "
   ]
  },
  {
   "cell_type": "code",
   "execution_count": 2,
   "metadata": {},
   "outputs": [
    {
     "name": "stdout",
     "output_type": "stream",
     "text": [
      "-3004003.0\n",
      "-2.9999986682087183\n",
      "-1.9999997040463158\n",
      "-1.7499999260115844\n",
      "-1.6938775372149912\n",
      "-1.6841341246660408\n",
      "-1.6826054052694137\n",
      "-1.6823703465936681\n",
      "-1.6823343207261756\n",
      "-1.682328802050156\n",
      "-1.6823279567285605\n",
      "solu -1.682328802050156\n"
     ]
    }
   ],
   "source": [
    "max_iter = 100 #maximumu iteration to complete\n",
    "x0 = 0.001 #initial guess of solution\n",
    "solution = []\n",
    "for i in range(100):\n",
    "    x1 = x0 - f(x0)/f_dot(x0)\n",
    "    print(x1)\n",
    "    #condition check\n",
    "    if abs(x1-x0)< 0.000001:  #check whether consecutive solution of x is repetative or not\n",
    "        print(\"solu\",x0)\n",
    "        break\n",
    "    x0 = x1             #to iterate\n",
    "\n",
    "    "
   ]
  },
  {
   "cell_type": "code",
   "execution_count": 3,
   "metadata": {},
   "outputs": [
    {
     "data": {
      "text/plain": [
       "-2.392454706345859e-06"
      ]
     },
     "execution_count": 3,
     "metadata": {},
     "output_type": "execute_result"
    }
   ],
   "source": [
    "#check the solution\n",
    "f(x0) #the result should satisfy the algebraic equation to be solution"
   ]
  },
  {
   "cell_type": "code",
   "execution_count": 4,
   "metadata": {},
   "outputs": [],
   "source": [
    "#lets build a function for Newton method\n",
    "def newtons_method(x0,f,f_dot ,tolerance,max_iterations):\n",
    "    for i in range(max_iterations):\n",
    "        y = f(x0)\n",
    "        ydot = f_dot(x0)\n",
    "\n",
    "        x1 = x0 - y / ydot           # Do Newton's computation\n",
    "\n",
    "        if abs(x1 - x0) <= tolerance:   # Stop when the result is within the desired tolerance\n",
    "            return x1                   # x1 is a solution within tolerance and maximum number of iterations\n",
    "\n",
    "        x0 = x1                         # Update x0 to start the process again\n",
    "\n",
    "    return None"
   ]
  },
  {
   "cell_type": "code",
   "execution_count": 5,
   "metadata": {},
   "outputs": [
    {
     "data": {
      "text/plain": [
       "-1.6823288020513776"
      ]
     },
     "execution_count": 5,
     "metadata": {},
     "output_type": "execute_result"
    }
   ],
   "source": [
    "#lets use the netwon function to obtain the results\n",
    "max_iter = 100\n",
    "max_tol = 0.00001\n",
    "x0 = 1\n",
    "#call the function\n",
    "solution = newtons_method(x0,f,f_dot,max_tol,max_iter)\n",
    "solution"
   ]
  },
  {
   "attachments": {},
   "cell_type": "markdown",
   "metadata": {},
   "source": [
    "<h3> Method of False Position </h3>\n",
    "\n",
    "$$x_2 = x_1 - \\frac{(x_1-x_0)f(x_0)}{f(x_1) - f(x_0)}$$"
   ]
  },
  {
   "cell_type": "code",
   "execution_count": 33,
   "metadata": {},
   "outputs": [
    {
     "name": "stdout",
     "output_type": "stream",
     "text": [
      "solu -1.6823273587232637\n"
     ]
    }
   ],
   "source": [
    "max_iter = 100 #maximumu iteration to complete\n",
    "x0,x1 = 10,100 #initial guess of solution\n",
    "solution = []\n",
    "#define the algebraic function and its derivative function\n",
    "def f(x):\n",
    "    return x**3 + 3*x**2 + 4*x + 3\n",
    "    \n",
    "for i in range(100):\n",
    "    x2 = x0 - ((x1 - x0)*f(x0))/(f(x1) - f(x0))\n",
    "   \n",
    "    #condition check\n",
    "    if abs(x1-x0)< 0.000001:  #check whether consecutive solution of x is repetative or not\n",
    "        print(\"solu\",x0)\n",
    "        break\n",
    "    x0 = x1             #to iterate\n",
    "    x1 = x2"
   ]
  },
  {
   "cell_type": "code",
   "execution_count": 7,
   "metadata": {},
   "outputs": [
    {
     "data": {
      "text/plain": [
       "array([-1.6823278])"
      ]
     },
     "execution_count": 7,
     "metadata": {},
     "output_type": "execute_result"
    }
   ],
   "source": [
    "#we can use the scipy library to obtain the roots of algebraic equation\n",
    "from scipy.optimize import fsolve #import the function from scipy.optimize library\n",
    "\n",
    "fsolve(f,x0)"
   ]
  },
  {
   "attachments": {},
   "cell_type": "markdown",
   "metadata": {},
   "source": [
    "<h3>Intro. to numpy array</h3>"
   ]
  },
  {
   "cell_type": "code",
   "execution_count": 34,
   "metadata": {},
   "outputs": [],
   "source": [
    "a = [1,2,3,5]"
   ]
  },
  {
   "cell_type": "code",
   "execution_count": 8,
   "metadata": {},
   "outputs": [],
   "source": [
    "import numpy as np\n",
    "\n",
    "a = np.array([[1,2,3,4],\n",
    "             [3,4,5,6]])\n"
   ]
  },
  {
   "cell_type": "code",
   "execution_count": 9,
   "metadata": {},
   "outputs": [
    {
     "data": {
      "text/plain": [
       "array([[1., 1., 1., 1.],\n",
       "       [1., 1., 1., 1.],\n",
       "       [1., 1., 1., 1.]])"
      ]
     },
     "execution_count": 9,
     "metadata": {},
     "output_type": "execute_result"
    }
   ],
   "source": [
    "x = np.ones((3,4))\n",
    "y = np.ones((4,3))\n",
    "x"
   ]
  },
  {
   "cell_type": "code",
   "execution_count": 10,
   "metadata": {},
   "outputs": [
    {
     "data": {
      "text/plain": [
       "array([[4., 4., 4.],\n",
       "       [4., 4., 4.],\n",
       "       [4., 4., 4.]])"
      ]
     },
     "execution_count": 10,
     "metadata": {},
     "output_type": "execute_result"
    }
   ],
   "source": [
    "x.dot(y)"
   ]
  },
  {
   "cell_type": "code",
   "execution_count": 11,
   "metadata": {},
   "outputs": [
    {
     "data": {
      "text/plain": [
       "array([-1.6823278+0.j       , -0.6588361+1.1615414j,\n",
       "       -0.6588361-1.1615414j])"
      ]
     },
     "execution_count": 11,
     "metadata": {},
     "output_type": "execute_result"
    }
   ],
   "source": [
    "#finding roots with numpy\n",
    "np.roots([1,3,4,3])"
   ]
  },
  {
   "attachments": {},
   "cell_type": "markdown",
   "metadata": {},
   "source": [
    "<h3> Intro to graphics library </h3>\n"
   ]
  },
  {
   "cell_type": "code",
   "execution_count": 7,
   "metadata": {},
   "outputs": [],
   "source": [
    "import matplotlib.pyplot as plt\n",
    "import numpy as np"
   ]
  },
  {
   "cell_type": "code",
   "execution_count": 13,
   "metadata": {},
   "outputs": [],
   "source": [
    "y = np.array([1,9,3,4,5,6,7])\n",
    "x = np.array([0,1,2,3,4,5,6])"
   ]
  },
  {
   "cell_type": "code",
   "execution_count": 14,
   "metadata": {},
   "outputs": [
    {
     "data": {
      "text/plain": [
       "Text(0, 0.5, 'discharge $m^3/s$')"
      ]
     },
     "execution_count": 14,
     "metadata": {},
     "output_type": "execute_result"
    },
    {
     "data": {
      "image/png": "[encoded data removed]",
      "text/plain": [
       "<Figure size 720x360 with 1 Axes>"
      ]
     },
     "metadata": {
      "needs_background": "light"
     },
     "output_type": "display_data"
    }
   ],
   "source": [
    "fig,ax = plt.subplots(figsize = (10,5))\n",
    "ax.plot(x,y)\n",
    "ax.scatter(x,y)\n",
    "ax.set_xlabel('time')\n",
    "ax.set_ylabel('discharge $m^3/s$')"
   ]
  },
  {
   "attachments": {},
   "cell_type": "markdown",
   "metadata": {},
   "source": [
    "<h3> Interpolation </h2>\n",
    "\n",
    "We need to find the estimation function $\\hat{y}(x)$ such that $\\hat{y}(x_i) = y_i$, where $x_i$ and $y_i$ are the given data points. We discuss about two of interpolation techniques viz.:\n",
    "\n",
    "<h4> Linear Interpolation</h4>\n",
    "\n",
    "The estimated point is assumed to lie on the line joining the nearst points to the left and right. let the data points be $(x_i, x_{i+1})$ and $(y_i, y_{i+1})$. For the point x such that $x_i \\leq x \\leq x_{i+1}$, we have the interpolation function as:\n",
    "\n",
    "$$\\hat{y}(x) = y_i + \\frac{(y_{i+1} - y_i)(x-x_i)}{(x_{i+1} - x_i)}$$\n",
    "\n",
    "<h4> Spline Interpolation </h4>\n",
    "\n",
    "The estimated point is assumed to lie on the line joining the points $(x_i, x_{i+1})$ and $(y_i, y_{i+1})$ defined by the cubic polynomial$$ S_i(x) = a_ix^3 + b_ix^2 + c_ix + d_i$$.\n",
    "\n",
    "Before applying the fuction we have to find the coefficents, the cofficents are determined using the following conditions:\n",
    "\n",
    "$$S_i(x_i) = y_i$$\n",
    "$$S_i(x_{i+1}) = y_{i+1} $$\n",
    "$$S_i'(x_i) = y_i'$$\n",
    "$$S_i'(x_{i+1}) = y'_{i+1} $$\n",
    "\n",
    "The obtained linear equation are solved to find the coefficent to obtain the interpolation function.\n"
   ]
  },
  {
   "cell_type": "code",
   "execution_count": 4,
   "metadata": {},
   "outputs": [],
   "source": [
    "#for linear and spline interpolation we use, scipy interplate class\n",
    "from scipy.interpolate import interp1d,CubicSpline\n",
    "import numpy as np\n",
    "import matplotlib.pyplot as plt"
   ]
  },
  {
   "cell_type": "code",
   "execution_count": 23,
   "metadata": {},
   "outputs": [
    {
     "data": {
      "text/plain": [
       "array([ 1.        ,  0.54030231,  0.0707372 , -0.41614684, -0.65364362,\n",
       "       -0.2107958 ,  0.70866977,  0.96017029,  0.97658763,  0.75390225,\n",
       "        0.34663532, -0.14550003])"
      ]
     },
     "execution_count": 23,
     "metadata": {},
     "output_type": "execute_result"
    }
   ],
   "source": [
    "x = np.array([0, 1,1.5, 2,4,4.5,5.5,6,6.5,7,7.5,8])\n",
    "y = np.cos(x)\n",
    "y"
   ]
  },
  {
   "cell_type": "code",
   "execution_count": 24,
   "metadata": {},
   "outputs": [
    {
     "data": {
      "text/plain": [
       "<matplotlib.collections.PathCollection at 0x7f3d75031180>"
      ]
     },
     "execution_count": 24,
     "metadata": {},
     "output_type": "execute_result"
    },
    {
     "data": {
      "image/png": "[encoded data removed]",
      "text/plain": [
       "<Figure size 432x288 with 1 Axes>"
      ]
     },
     "metadata": {
      "needs_background": "light"
     },
     "output_type": "display_data"
    }
   ],
   "source": [
    "plt.scatter(x,y)"
   ]
  },
  {
   "cell_type": "code",
   "execution_count": 25,
   "metadata": {},
   "outputs": [],
   "source": [
    "inter_f = interp1d(x,y)\n",
    "inter_fc = CubicSpline(x,y)"
   ]
  },
  {
   "cell_type": "code",
   "execution_count": 26,
   "metadata": {},
   "outputs": [
    {
     "data": {
      "text/plain": [
       "<matplotlib.collections.PathCollection at 0x7f3d7509dd50>"
      ]
     },
     "execution_count": 26,
     "metadata": {},
     "output_type": "execute_result"
    },
    {
     "data": {
      "image/png": "[encoded data removed]",
      "text/plain": [
       "<Figure size 432x288 with 1 Axes>"
      ]
     },
     "metadata": {
      "needs_background": "light"
     },
     "output_type": "display_data"
    }
   ],
   "source": [
    "plt.plot(x,y)\n",
    "plt.scatter([0.5,4.5],[inter_f(0.5),inter_f(4.5)])"
   ]
  },
  {
   "cell_type": "code",
   "execution_count": 13,
   "metadata": {},
   "outputs": [
    {
     "data": {
      "text/plain": [
       "array(0.90188487)"
      ]
     },
     "execution_count": 13,
     "metadata": {},
     "output_type": "execute_result"
    }
   ],
   "source": [
    "inter_f(0.5)\n",
    "inter_fc(0.5)"
   ]
  },
  {
   "cell_type": "code",
   "execution_count": 27,
   "metadata": {},
   "outputs": [],
   "source": [
    "inter_fc = CubicSpline(x,y)\n",
    "x_test = np.linspace(0,8)\n",
    "y_test = inter_fc(x_test)"
   ]
  },
  {
   "cell_type": "code",
   "execution_count": 28,
   "metadata": {},
   "outputs": [
    {
     "data": {
      "text/plain": [
       "<matplotlib.legend.Legend at 0x7f3d7507baf0>"
      ]
     },
     "execution_count": 28,
     "metadata": {},
     "output_type": "execute_result"
    },
    {
     "data": {
      "image/png": "[encoded data removed]",
      "text/plain": [
       "<Figure size 576x360 with 1 Axes>"
      ]
     },
     "metadata": {
      "needs_background": "light"
     },
     "output_type": "display_data"
    }
   ],
   "source": [
    "fig,ax = plt.subplots(figsize = (8,5))\n",
    "ax.scatter(x,y, label = \"data taken\")\n",
    "ax.plot(x_test,y_test, label= 'interpolated ')\n",
    "ax.plot(x_test, np.cos(x_test), label = \"exact\")\n",
    "ax.legend()"
   ]
  },
  {
   "attachments": {},
   "cell_type": "markdown",
   "metadata": {},
   "source": [
    "<h3> System of linear equation</h3>\n",
    "\n",
    "System of linear equation can be represented in the form of:\n",
    "$$Ax = B$$\n",
    "where, A is the coefficent matrix, x is the vector of independent variables and B is the vector of dependent variable.\n",
    "The solution can be obtained directly as:\n",
    "$$x = A^{-1}B$$\n",
    "\n",
    "Let us take an example of following system of linear equation:\n",
    "\n",
    "$$4x + 3y + 2z = 25$$\n",
    "$$-2x + 2y + 3z = -10$$\n",
    "$$3x -5y + 2z = -4$$\n",
    "\n",
    "It can be written as:\n",
    "\n",
    "$$\\begin{bmatrix} 4 & 3 & 2 \\\\ -2 & 2 & 3 \\\\ 3 & -5 & 2 \\end{bmatrix} \\begin{bmatrix} x \\\\ y \\\\ z \\end{bmatrix} = \\begin{bmatrix} 25 \\\\ -10 \\\\ -4 \\end{bmatrix}  $$\n",
    "The solution for $x,y,z$ can be obtained simply as:\n",
    "\n",
    "$$ \\begin{bmatrix} x \\\\ y \\\\ z \\end{bmatrix} = \\begin{bmatrix} 4 & 3 & 2 \\\\ -2 & 2 & 3 \\\\ 3 & -5 & 2 \\end{bmatrix} ^{-1} \\begin{bmatrix} 25 \\\\ -10 \\\\ -4 \\end{bmatrix}  $$"
   ]
  },
  {
   "cell_type": "code",
   "execution_count": 7,
   "metadata": {},
   "outputs": [
    {
     "data": {
      "text/plain": [
       "array([[ 5.],\n",
       "       [ 3.],\n",
       "       [-2.]])"
      ]
     },
     "execution_count": 7,
     "metadata": {},
     "output_type": "execute_result"
    }
   ],
   "source": [
    "import numpy as np\n",
    "\n",
    "A = np.array([[4,3,2],\n",
    "              [-2,2,3],\n",
    "              [3,-5,2]])\n",
    "B = np.array([[25],\n",
    "              [-10],\n",
    "              [-4]])\n",
    "A_inv = np.linalg.inv(A)\n",
    "solun = np.matmul(A_inv,B)\n",
    "solun"
   ]
  },
  {
   "attachments": {},
   "cell_type": "markdown",
   "metadata": {},
   "source": [
    "<h3> Intro to Pandas </h3>"
   ]
  },
  {
   "cell_type": "code",
   "execution_count": 9,
   "metadata": {},
   "outputs": [],
   "source": [
    "import pandas as pd\n",
    "import matplotlib.pyplot as plt"
   ]
  },
  {
   "cell_type": "code",
   "execution_count": 12,
   "metadata": {},
   "outputs": [],
   "source": [
    "data = pd.read_csv(\"aoi_co_data.csv\")\n",
    "data = data.set_index('Date')"
   ]
  },
  {
   "cell_type": "code",
   "execution_count": 16,
   "metadata": {},
   "outputs": [],
   "source": [
    "xdata = data['Co_concentration'].values\n",
    "ydata = data['Aoi_value'].values"
   ]
  },
  {
   "cell_type": "code",
   "execution_count": 19,
   "metadata": {},
   "outputs": [
    {
     "data": {
      "text/plain": [
       "Text(0, 0.5, 'Air Quality Index (AOI)')"
      ]
     },
     "execution_count": 19,
     "metadata": {},
     "output_type": "execute_result"
    },
    {
     "data": {
      "image/png": "[encoded data removed]",
      "text/plain": [
       "<Figure size 576x432 with 1 Axes>"
      ]
     },
     "metadata": {
      "needs_background": "light"
     },
     "output_type": "display_data"
    }
   ],
   "source": [
    "fig, ax = plt.subplots(figsize = (8,6))\n",
    "ax.scatter(xdata,ydata)\n",
    "ax.set_xlabel(\"CO Concentration\")\n",
    "ax.set_ylabel(\"Air Quality Index (AOI)\")\n",
    "\n"
   ]
  },
  {
   "attachments": {},
   "cell_type": "markdown",
   "metadata": {},
   "source": [
    "<h3> Least Square Regression and Curve Fitting </h3>\n",
    "\n",
    "In the above example we observe a relationship between CO concentration and air quality index. Now we are interested to find a mathematical relationship\n",
    "between these two variables. \n",
    "\n",
    "So, least square regression problem can be stated as to find a approximate function $\\hat{y}(x)$ that describes the data as accurately as possible. In least square regression the approximate function need to be linear combination of basic function $f(x)$. However, scipy library of python is powerful enough to perform regression for almost any type of estimation function (here I mean linear as well as non linear)\n",
    "\n",
    "The algorithm works on the minimization of error of actual data and that of estimated data. Acutally, scipy curfit uses Non-linear least squares method \n",
    "to find the parameters of estimation function.\n",
    "\n",
    "Lets say we have a m data points $(x_1,y_1)$ ,$(x_2,y_2)$ ,$(x_3,y_3)$...... ,$(x_m,y_m)$. Let the estimation function be $\\hat{y}(x) = f(x,\\alpha)$, where, $\\alpha$ is the paramters to find such that functon S is minimized:\n",
    "$$S = \\sum_{i=1}^m r_i^2$$\n",
    "\n",
    "Wheere, $r_i$ is the residuals given as:\n",
    "\n",
    "$$r_i = y_i - f(x_i,\\alpha)$$\n",
    "\n",
    "Lets leave how the library performs the optimization.....topic for later discussion. Lets do it first.\n"
   ]
  },
  {
   "cell_type": "code",
   "execution_count": 35,
   "metadata": {},
   "outputs": [],
   "source": [
    "#lets try a linear relationship between the variables\n",
    "# y = a*x + b\n",
    "from scipy.optimize import curve_fit\n",
    "\n",
    "def est_func(x, a, b):\n",
    "    return a*x + b"
   ]
  },
  {
   "cell_type": "code",
   "execution_count": 36,
   "metadata": {},
   "outputs": [],
   "source": [
    "x, y = data.Co_concentration.values , data.Aoi_value.values"
   ]
  },
  {
   "cell_type": "code",
   "execution_count": 47,
   "metadata": {},
   "outputs": [],
   "source": [
    "param, cov = curve_fit(est_func, x,y)\n",
    "a,b = param"
   ]
  },
  {
   "cell_type": "code",
   "execution_count": 49,
   "metadata": {},
   "outputs": [
    {
     "data": {
      "text/plain": [
       "[<matplotlib.lines.Line2D at 0x7fec9d5a0d60>]"
      ]
     },
     "execution_count": 49,
     "metadata": {},
     "output_type": "execute_result"
    },
    {
     "data": {
      "image/png": "[encoded data removed]",
      "text/plain": [
       "<Figure size 576x432 with 1 Axes>"
      ]
     },
     "metadata": {
      "needs_background": "light"
     },
     "output_type": "display_data"
    }
   ],
   "source": [
    "fig, ax = plt.subplots(figsize = (8,6))\n",
    "ax.scatter(x,y)\n",
    "y_ext = est_func(x,a,b)\n",
    "ax.plot(x,y_ext)"
   ]
  },
  {
   "cell_type": "code",
   "execution_count": null,
   "metadata": {},
   "outputs": [],
   "source": []
  }
 ],
 "metadata": {
  "kernelspec": {
   "display_name": "Python 3",
   "language": "python",
   "name": "python3"
  },
  "language_info": {
   "codemirror_mode": {
    "name": "ipython",
    "version": 3
   },
   "file_extension": ".py",
   "mimetype": "text/x-python",
   "name": "python",
   "nbconvert_exporter": "python",
   "pygments_lexer": "ipython3",
   "version": "3.10.6"
  },
  "orig_nbformat": 4,
  "vscode": {
   "interpreter": {
    "hash": "916dbcbb3f70747c44a77c7bcd40155683ae19c65e1c03b4aa3499c5328201f1"
   }
  }
 },
 "nbformat": 4,
 "nbformat_minor": 2
}
