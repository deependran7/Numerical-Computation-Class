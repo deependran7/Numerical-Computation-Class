{
 "cells": [
  {
   "attachments": {},
   "cell_type": "markdown",
   "metadata": {},
   "source": [
    "<h3> Application of break, loop and function statement </h3>\n",
    "The Newton method for finding the solution of algegraic and trancendal equation is given as:\n",
    "\n",
    "$$x_{n+1} = x_{n} - \\frac{f(x_n)}{f'(x_n)}$$\n",
    "Lets take the following algebraic equation\n",
    "\n",
    "$$f(x) = x^3 + 3x^2 + 4x + 3$$\n",
    "$$f'(x) = 3x^2 + 6x + 4$$"
   ]
  },
  {
   "cell_type": "code",
   "execution_count": 5,
   "metadata": {},
   "outputs": [],
   "source": [
    "#define the algebraic function and its derivative function\n",
    "def f(x):\n",
    "    return x**3 + 3*x**2 + 4*x + 3\n",
    "def f_dot(x): #derivative of f(x)\n",
    "    return 3*x**2 + 6*x + 4"
   ]
  },
  {
   "cell_type": "code",
   "execution_count": 6,
   "metadata": {},
   "outputs": [
    {
     "name": "stdout",
     "output_type": "stream",
     "text": [
      "-0.7488753747812971\n",
      "-1.8142733872096057\n",
      "-1.6957870965631978\n",
      "-1.6824810002605237\n",
      "-1.6823278238702855\n",
      "-1.6823278038280192\n",
      "solu -1.6823278238702855\n"
     ]
    }
   ],
   "source": [
    "max_iter = 100 #maximumu iteration to complete\n",
    "x0 = 0.001 #initial guess of solution\n",
    "solution = []\n",
    "for i in range(100):\n",
    "    x1 = x0 - f(x0)/f_dot(x0)\n",
    "    print(x1)\n",
    "    #condition check\n",
    "    if abs(x1-x0)< 0.000001:  #check whether consecutive solution of x is repetative or not\n",
    "        print(\"solu\",x0)\n",
    "        break\n",
    "    x0 = x1             #to iterate\n",
    "\n",
    "    "
   ]
  },
  {
   "cell_type": "code",
   "execution_count": 7,
   "metadata": {},
   "outputs": [
    {
     "data": {
      "text/plain": [
       "-4.80355755172468e-08"
      ]
     },
     "execution_count": 7,
     "metadata": {},
     "output_type": "execute_result"
    }
   ],
   "source": [
    "#check the solution\n",
    "f(x0) #the result should satisfy the algebraic equation to be solution"
   ]
  },
  {
   "cell_type": "code",
   "execution_count": 8,
   "metadata": {},
   "outputs": [],
   "source": [
    "#lets build a function for Newton method\n",
    "def newtons_method(x0,f,f_dot ,tolerance,max_iterations):\n",
    "    for i in range(max_iterations):\n",
    "        y = f(x0)\n",
    "        ydot = f_dot(x0)\n",
    "\n",
    "        x1 = x0 - y / ydot           # Do Newton's computation\n",
    "\n",
    "        if abs(x1 - x0) <= tolerance:   # Stop when the result is within the desired tolerance\n",
    "            return x1                   # x1 is a solution within tolerance and maximum number of iterations\n",
    "\n",
    "        x0 = x1                         # Update x0 to start the process again\n",
    "\n",
    "    return None"
   ]
  },
  {
   "cell_type": "code",
   "execution_count": 9,
   "metadata": {},
   "outputs": [
    {
     "data": {
      "text/plain": [
       "-1.6823278038280196"
      ]
     },
     "execution_count": 9,
     "metadata": {},
     "output_type": "execute_result"
    }
   ],
   "source": [
    "#lets use the netwon function to obtain the results\n",
    "max_iter = 100\n",
    "max_tol = 0.00001\n",
    "x0 = 1\n",
    "#call the function\n",
    "solution = newtons_method(x0,f,f_dot,max_tol,max_iter)\n",
    "solution"
   ]
  },
  {
   "attachments": {},
   "cell_type": "markdown",
   "metadata": {},
   "source": [
    "<h3> Method of False Position </h3>\n",
    "\n",
    "$$x_2 = x_1 - \\frac{(x_1-x_0)f(x_0)}{f(x_1) - f(x_0)}$$"
   ]
  },
  {
   "cell_type": "code",
   "execution_count": 10,
   "metadata": {},
   "outputs": [
    {
     "name": "stdout",
     "output_type": "stream",
     "text": [
      "-0.375\n",
      "-0.6564705882352941\n",
      "-1.4596014155111812\n",
      "-1.8380637553400387\n",
      "-1.6524512399639035\n",
      "-1.6785481662909385\n",
      "-1.682425427591089\n",
      "-1.6823274882641066\n",
      "-1.6823278038017089\n",
      "-1.6823278038280192\n",
      "solu -1.6823274882641066\n"
     ]
    }
   ],
   "source": [
    "max_iter = 100 #maximumu iteration to complete\n",
    "x0,x1 = 0,1 #initial guess of solution\n",
    "solution = []\n",
    "for i in range(100):\n",
    "    x2 = x0 - ((x1 - x0)*f(x0))/(f(x1) - f(x0))\n",
    "    print(x2)\n",
    "    #condition check\n",
    "    if abs(x1-x0)< 0.000001:  #check whether consecutive solution of x is repetative or not\n",
    "        print(\"solu\",x0)\n",
    "        break\n",
    "    x0 = x1             #to iterate\n",
    "    x1 = x2"
   ]
  },
  {
   "cell_type": "code",
   "execution_count": 11,
   "metadata": {},
   "outputs": [
    {
     "data": {
      "text/plain": [
       "array([-1.6823278])"
      ]
     },
     "execution_count": 11,
     "metadata": {},
     "output_type": "execute_result"
    }
   ],
   "source": [
    "#we can use the scipy library to obtain the roots of algebraic equation\n",
    "from scipy.optimize import fsolve #import the function from scipy.optimize library\n",
    "\n",
    "fsolve(f,x0)"
   ]
  },
  {
   "attachments": {},
   "cell_type": "markdown",
   "metadata": {},
   "source": [
    "<h3>Intro. to numpy array</h3>"
   ]
  },
  {
   "cell_type": "code",
   "execution_count": 12,
   "metadata": {},
   "outputs": [],
   "source": [
    "import numpy as np\n",
    "\n",
    "a = np.array([[1,2,3,4],\n",
    "             [3,4,5,6]])\n",
    "x = np.zeros((2,3))\n",
    "y = np.empty((4,4))\n",
    "b = np.array([1,3,4,5,7])"
   ]
  },
  {
   "cell_type": "code",
   "execution_count": 17,
   "metadata": {},
   "outputs": [
    {
     "data": {
      "text/plain": [
       "array([[1., 1., 1., 1.],\n",
       "       [1., 1., 1., 1.],\n",
       "       [1., 1., 1., 1.]])"
      ]
     },
     "execution_count": 17,
     "metadata": {},
     "output_type": "execute_result"
    }
   ],
   "source": [
    "x = np.ones((3,4))\n",
    "y = np.ones((4,3))\n",
    "x"
   ]
  },
  {
   "cell_type": "code",
   "execution_count": 19,
   "metadata": {},
   "outputs": [
    {
     "data": {
      "text/plain": [
       "array([[4., 4., 4.],\n",
       "       [4., 4., 4.],\n",
       "       [4., 4., 4.]])"
      ]
     },
     "execution_count": 19,
     "metadata": {},
     "output_type": "execute_result"
    }
   ],
   "source": [
    "x.dot(y)"
   ]
  },
  {
   "cell_type": "code",
   "execution_count": 20,
   "metadata": {},
   "outputs": [
    {
     "data": {
      "text/plain": [
       "array([-1.6823278+0.j       , -0.6588361+1.1615414j,\n",
       "       -0.6588361-1.1615414j])"
      ]
     },
     "execution_count": 20,
     "metadata": {},
     "output_type": "execute_result"
    }
   ],
   "source": [
    "#finding roots with numpy\n",
    "np.roots([1,3,4,3])"
   ]
  },
  {
   "attachments": {},
   "cell_type": "markdown",
   "metadata": {},
   "source": [
    "<h3> Intro to graphics library </h3>\n"
   ]
  },
  {
   "cell_type": "code",
   "execution_count": 21,
   "metadata": {},
   "outputs": [],
   "source": [
    "import matplotlib.pyplot as plt\n",
    "import numpy as np"
   ]
  },
  {
   "cell_type": "code",
   "execution_count": 22,
   "metadata": {},
   "outputs": [],
   "source": [
    "y = np.array([1,9,3,4,5,6,7])\n",
    "x = np.array([0,1,2,3,4,5,6])"
   ]
  },
  {
   "cell_type": "code",
   "execution_count": 23,
   "metadata": {},
   "outputs": [
    {
     "data": {
      "text/plain": [
       "Text(0, 0.5, 'discharge $m^3/s$')"
      ]
     },
     "execution_count": 23,
     "metadata": {},
     "output_type": "execute_result"
    },
    {
     "data": {
      "image/png": "[encoded data removed]",
      "text/plain": [
       "<Figure size 720x360 with 1 Axes>"
      ]
     },
     "metadata": {
      "needs_background": "light"
     },
     "output_type": "display_data"
    }
   ],
   "source": [
    "fig,ax = plt.subplots(figsize = (10,5))\n",
    "ax.plot(x,y)\n",
    "ax.scatter(x,y)\n",
    "ax.set_xlabel('time')\n",
    "ax.set_ylabel('discharge $m^3/s$')"
   ]
  },
  {
   "attachments": {},
   "cell_type": "markdown",
   "metadata": {},
   "source": [
    "<h3> Interpolation </h2>\n",
    "\n",
    "We need to find the estimation function $\\hat{y}(x)$ such that $\\hat{y}(x_i) = y_i$, where $x_i$ and $y_i$ are the given data points. We discuss about two of interpolation techniques viz.:\n",
    "\n",
    "<h4> Linear Interpolation</h4>\n",
    "\n",
    "The estimated point is assumed to lie on the line joining the nearst points to the left and right. let the data points be $(x_i, x_{i+1})$ and $(y_i, y_{i+1})$. For the point x such that $x_i \\leq x \\leq x_{i+1}$, we have the interpolation function as:\n",
    "\n",
    "$$\\hat{y}(x) = y_i + \\frac{(y_{i+1} - y_i)(x-x_i)}{(x_{i+1} - x_i)}$$\n",
    "\n",
    "<h4> Spline Interpolation </h4>\n",
    "\n",
    "The estimated point is assumed to lie on the line joining the points $(x_i, x_{i+1})$ and $(y_i, y_{i+1})$ defined by the cubic polynomial$$ S_i(x) = a_ix^3 + b_ix^2 + c_ix + d_i$$.\n",
    "\n",
    "Before applying the fuction we have to find the coefficents, the cofficents are determined using the following conditions:\n",
    "\n",
    "$$S_i(x_i) = y_i$$\n",
    "$$S_i(x_{i+1}) = S_i(x_{i+1}) $$\n",
    "$$S_i'(x_i) = y_i'$$\n",
    "$$S_i'(x_{i+1}) = S_i'(x_{i+1}) $$\n",
    "\n",
    "The obtained linear equation are solved to find the coefficent to obtain the interpolation function.\n"
   ]
  },
  {
   "cell_type": "code",
   "execution_count": 25,
   "metadata": {},
   "outputs": [],
   "source": [
    "#for linear and spline interpolation we use, scipy interplate class\n",
    "from scipy.interpolate import interp1d,CubicSpline"
   ]
  },
  {
   "cell_type": "code",
   "execution_count": 26,
   "metadata": {},
   "outputs": [],
   "source": [
    "x = [0, 1, 2,4,5,6,7,8]\n",
    "y = [1, 3, 2,8,9,6,8,4]"
   ]
  },
  {
   "cell_type": "code",
   "execution_count": 30,
   "metadata": {},
   "outputs": [],
   "source": [
    "inter_f = interp1d(x,y)\n",
    "inter_fc = CubicSpline(x,y)"
   ]
  },
  {
   "cell_type": "code",
   "execution_count": 34,
   "metadata": {},
   "outputs": [
    {
     "data": {
      "text/plain": [
       "2.7162828947368416"
      ]
     },
     "execution_count": 34,
     "metadata": {},
     "output_type": "execute_result"
    }
   ],
   "source": [
    "inter_f(2.5)\n",
    "inter_fc(2.5)"
   ]
  },
  {
   "cell_type": "code",
   "execution_count": null,
   "metadata": {},
   "outputs": [],
   "source": []
  }
 ],
 "metadata": {
  "kernelspec": {
   "display_name": "Python 3",
   "language": "python",
   "name": "python3"
  },
  "language_info": {
   "codemirror_mode": {
    "name": "ipython",
    "version": 3
   },
   "file_extension": ".py",
   "mimetype": "text/x-python",
   "name": "python",
   "nbconvert_exporter": "python",
   "pygments_lexer": "ipython3",
   "version": "3.10.6"
  },
  "orig_nbformat": 4,
  "vscode": {
   "interpreter": {
    "hash": "916dbcbb3f70747c44a77c7bcd40155683ae19c65e1c03b4aa3499c5328201f1"
   }
  }
 },
 "nbformat": 4,
 "nbformat_minor": 2
}
