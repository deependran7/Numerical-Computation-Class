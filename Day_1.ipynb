{
 "cells": [
  {
   "cell_type": "code",
   "execution_count": 22,
   "metadata": {},
   "outputs": [],
   "source": [
    "#variables \n",
    "a = 1.1\n",
    "b = 2"
   ]
  },
  {
   "cell_type": "code",
   "execution_count": 23,
   "metadata": {},
   "outputs": [
    {
     "name": "stdout",
     "output_type": "stream",
     "text": [
      "not great\n"
     ]
    }
   ],
   "source": [
    "#break statements\n",
    "if a>b:\n",
    "  print('a is greater than b')\n",
    "else:\n",
    " print('not great')"
   ]
  },
  {
   "cell_type": "code",
   "execution_count": 37,
   "metadata": {},
   "outputs": [
    {
     "name": "stdout",
     "output_type": "stream",
     "text": [
      "1\n",
      "2\n",
      "9\n",
      "4\n"
     ]
    }
   ],
   "source": [
    "#iterate over lists\n",
    "list1 = [1,2,9,4,20,5]\n",
    "for value in list1:\n",
    "    if value > 18:\n",
    "        break\n",
    "    print(value)"
   ]
  },
  {
   "cell_type": "code",
   "execution_count": 1,
   "metadata": {},
   "outputs": [
    {
     "name": "stdout",
     "output_type": "stream",
     "text": [
      "iteration 0\n",
      "values 1\n",
      "iteration 1\n",
      "values 7\n",
      "iteration 2\n",
      "values 9\n",
      "iteration 3\n",
      "values 4\n",
      "iteration 4\n",
      "values 20\n",
      "iteration 5\n",
      "values 5\n"
     ]
    }
   ],
   "source": [
    "#iteration over list with counting\n",
    "list1 = [1,7,9,4,20,5]\n",
    "for i,values in enumerate(list1):\n",
    "    print(\"iteration\",i)\n",
    "    print(\"values\",values)"
   ]
  },
  {
   "cell_type": "code",
   "execution_count": 2,
   "metadata": {},
   "outputs": [
    {
     "name": "stdout",
     "output_type": "stream",
     "text": [
      "8\n"
     ]
    }
   ],
   "source": [
    "#functions\n",
    "def f(x):\n",
    "    return x**2 + 2*x\n",
    "    \n",
    "print(f(2))"
   ]
  },
  {
   "attachments": {},
   "cell_type": "markdown",
   "metadata": {},
   "source": [
    "<h3> Application of break, loop and function statement </h3> \\newline\n",
    "the newton method for finding the solution of algegraic and trancendal equation is given as:\n",
    "\n",
    "$$x_{n+1} = x_{n} - \\frac{f(x_n)}{f'(x_n)}$$\n",
    "Lets take the following algebraic equation\n",
    "\n",
    "$$f(x) = x^3 + 3x^2 + 4x + 3$$\n",
    "$$f'(x) = 3x^2 + 6x + 4$$"
   ]
  },
  {
   "cell_type": "code",
   "execution_count": 3,
   "metadata": {},
   "outputs": [],
   "source": [
    "#define the algebraic function and its derivative function\n",
    "def f(x):\n",
    "    return x**3 + 3*x**2 + 4*x + 3\n",
    "def f_dot(x): #derivative of f(x)\n",
    "    return 3*x**2 + 6*x + 4"
   ]
  },
  {
   "cell_type": "code",
   "execution_count": 4,
   "metadata": {},
   "outputs": [
    {
     "name": "stdout",
     "output_type": "stream",
     "text": [
      "solu -1.6823278197923637\n"
     ]
    }
   ],
   "source": [
    "max_iter = 100 #maximumu iteration to complete\n",
    "x0 = 1 #initial guess of solution\n",
    "solution = []\n",
    "for i in range(100):\n",
    "    x1 = x0 - f(x0)/f_dot(x0)\n",
    "\n",
    "    #condition check\n",
    "    if abs(x1-x0)< 0.000001:  #check whether consecutive solution of x is repetative or not\n",
    "        print(\"solu\",x0)\n",
    "        break\n",
    "    x0 = x1             #to iterate\n",
    "\n",
    "    "
   ]
  },
  {
   "cell_type": "code",
   "execution_count": 7,
   "metadata": {},
   "outputs": [
    {
     "data": {
      "text/plain": [
       "-3.826196337541887e-08"
      ]
     },
     "execution_count": 7,
     "metadata": {},
     "output_type": "execute_result"
    }
   ],
   "source": [
    "#check the solution\n",
    "f(x0) #the result should satisfy the algebraic equation to be solution"
   ]
  },
  {
   "cell_type": "code",
   "execution_count": 8,
   "metadata": {},
   "outputs": [],
   "source": [
    "#lets build a function for Newton method\n",
    "def newtons_method(x0,f,f_dot ,tolerance,max_iterations):\n",
    "    for i in range(max_iterations):\n",
    "        y = f(x0)\n",
    "        ydot = f_dot(x0)\n",
    "\n",
    "        x1 = x0 - y / ydot           # Do Newton's computation\n",
    "\n",
    "        if abs(x1 - x0) <= tolerance:   # Stop when the result is within the desired tolerance\n",
    "            return x1                   # x1 is a solution within tolerance and maximum number of iterations\n",
    "\n",
    "        x0 = x1                         # Update x0 to start the process again\n",
    "\n",
    "    return None"
   ]
  },
  {
   "cell_type": "code",
   "execution_count": 9,
   "metadata": {},
   "outputs": [],
   "source": [
    "#lets use the netwon function to obtain the results\n",
    "max_iter = 100\n",
    "max_tol = 0.00001\n",
    "x0 = 1\n",
    "#call the function\n",
    "solution = newtons_method(x0,f,f_dot,max_tol,max_iter)"
   ]
  },
  {
   "cell_type": "code",
   "execution_count": 10,
   "metadata": {},
   "outputs": [
    {
     "data": {
      "text/plain": [
       "-1.6823278038280196"
      ]
     },
     "execution_count": 10,
     "metadata": {},
     "output_type": "execute_result"
    }
   ],
   "source": [
    "solution"
   ]
  }
 ],
 "metadata": {
  "kernelspec": {
   "display_name": "Python 3",
   "language": "python",
   "name": "python3"
  },
  "language_info": {
   "codemirror_mode": {
    "name": "ipython",
    "version": 3
   },
   "file_extension": ".py",
   "mimetype": "text/x-python",
   "name": "python",
   "nbconvert_exporter": "python",
   "pygments_lexer": "ipython3",
   "version": "3.10.6"
  },
  "orig_nbformat": 4,
  "vscode": {
   "interpreter": {
    "hash": "916dbcbb3f70747c44a77c7bcd40155683ae19c65e1c03b4aa3499c5328201f1"
   }
  }
 },
 "nbformat": 4,
 "nbformat_minor": 2
}
